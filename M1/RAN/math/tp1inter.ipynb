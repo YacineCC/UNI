{
 "cells": [
  {
   "cell_type": "code",
   "execution_count": 2,
   "metadata": {},
   "outputs": [],
   "source": [
    "import sympy as sp\n",
    "x = sp.symbols('x')\n"
   ]
  },
  {
   "cell_type": "code",
   "execution_count": 3,
   "metadata": {},
   "outputs": [
    {
     "data": {
      "text/latex": [
       "$\\displaystyle a_{0} + a_{1} x + a_{2} x^{2}$"
      ],
      "text/plain": [
       "a0 + a1*x + a2*x**2"
      ]
     },
     "execution_count": 3,
     "metadata": {},
     "output_type": "execute_result"
    }
   ],
   "source": [
    "# Points d'interpolation\n",
    "x_vals = [0, 2, 4]\n",
    "y_vals = [7, 11, 55]\n",
    "\n",
    "n = len(x_vals)-1 # Degré du polynôme\n",
    "coeffs = sp.symbols(f'a0:{n+1}')\n",
    "poly = sum(coeffs[i] * x**i for i in range(n+1))\n",
    "poly"
   ]
  },
  {
   "cell_type": "code",
   "execution_count": 4,
   "metadata": {},
   "outputs": [
    {
     "data": {
      "text/latex": [
       "$\\displaystyle a_{0} = 7$"
      ],
      "text/plain": [
       "Eq(a0, 7)"
      ]
     },
     "metadata": {},
     "output_type": "display_data"
    },
    {
     "data": {
      "text/latex": [
       "$\\displaystyle a_{0} + 2 a_{1} + 4 a_{2} = 11$"
      ],
      "text/plain": [
       "Eq(a0 + 2*a1 + 4*a2, 11)"
      ]
     },
     "metadata": {},
     "output_type": "display_data"
    },
    {
     "data": {
      "text/latex": [
       "$\\displaystyle a_{0} + 4 a_{1} + 16 a_{2} = 55$"
      ],
      "text/plain": [
       "Eq(a0 + 4*a1 + 16*a2, 55)"
      ]
     },
     "metadata": {},
     "output_type": "display_data"
    }
   ],
   "source": [
    "# Le système à résoudre\n",
    "eqs = [ sp.Eq( poly.subs(x, x_vals[i]), y_vals[i]) for i in range(n+1) ]\n",
    "\n",
    "for eq in eqs :\n",
    "    display(eq)"
   ]
  },
  {
   "cell_type": "code",
   "execution_count": 5,
   "metadata": {},
   "outputs": [
    {
     "data": {
      "text/latex": [
       "$\\displaystyle 5 x^{2} - 8 x + 7$"
      ],
      "text/plain": [
       "5*x**2 - 8*x + 7"
      ]
     },
     "execution_count": 5,
     "metadata": {},
     "output_type": "execute_result"
    }
   ],
   "source": [
    "solution = sp.solve(eqs, coeffs)\n",
    "p1 = poly.subs(solution)\n",
    "p1"
   ]
  },
  {
   "cell_type": "code",
   "execution_count": 8,
   "metadata": {},
   "outputs": [
    {
     "data": {
      "text/latex": [
       "$\\displaystyle \\frac{y_{0} \\left(x - x_{1}\\right) \\left(x - x_{2}\\right)}{\\left(x_{0} - x_{1}\\right) \\left(x_{0} - x_{2}\\right)} + \\frac{y_{1} \\left(x - x_{0}\\right) \\left(x - x_{2}\\right)}{\\left(- x_{0} + x_{1}\\right) \\left(x_{1} - x_{2}\\right)} + \\frac{y_{2} \\left(x - x_{0}\\right) \\left(x - x_{1}\\right)}{\\left(- x_{0} + x_{2}\\right) \\left(- x_{1} + x_{2}\\right)}$"
      ],
      "text/plain": [
       "y0*(x - x1)*(x - x2)/((x0 - x1)*(x0 - x2)) + y1*(x - x0)*(x - x2)/((-x0 + x1)*(x1 - x2)) + y2*(x - x0)*(x - x1)/((-x0 + x2)*(-x1 + x2))"
      ]
     },
     "execution_count": 8,
     "metadata": {},
     "output_type": "execute_result"
    }
   ],
   "source": [
    "n = 2\n",
    "p1 = sp.polys.specialpolys.interpolating_poly(n+1, x, X='x', Y='y')\n",
    "p1"
   ]
  },
  {
   "cell_type": "code",
   "execution_count": 9,
   "metadata": {},
   "outputs": [
    {
     "data": {
      "text/latex": [
       "$\\displaystyle - \\frac{11 x \\left(x - 3\\right)}{2} + \\frac{28 x \\left(x - 2\\right)}{3} + \\frac{7 \\left(x - 3\\right) \\left(x - 2\\right)}{6}$"
      ],
      "text/plain": [
       "-11*x*(x - 3)/2 + 28*x*(x - 2)/3 + 7*(x - 3)*(x - 2)/6"
      ]
     },
     "execution_count": 9,
     "metadata": {},
     "output_type": "execute_result"
    }
   ],
   "source": [
    "x_vals = [0, 2, 3]\n",
    "y_vals = [7, 11, 28]\n",
    "p2 = sp.polys.specialpolys.interpolating_poly(n+1, x, X=x_vals, Y=y_vals)\n",
    "p2"
   ]
  },
  {
   "cell_type": "code",
   "execution_count": 10,
   "metadata": {},
   "outputs": [
    {
     "data": {
      "text/latex": [
       "$\\displaystyle 5 x^{2} - 8 x + 7$"
      ],
      "text/plain": [
       "5*x**2 - 8*x + 7"
      ]
     },
     "execution_count": 10,
     "metadata": {},
     "output_type": "execute_result"
    }
   ],
   "source": [
    "p3 =sp.simplify(p2)\n",
    "p3"
   ]
  },
  {
   "cell_type": "code",
   "execution_count": 11,
   "metadata": {},
   "outputs": [
    {
     "data": {
      "text/latex": [
       "$\\displaystyle a_{0} \\cos{\\left(x \\right)} + a_{1} \\cos{\\left(2 x \\right)} + a_{2} \\cos{\\left(3 x \\right)}$"
      ],
      "text/plain": [
       "a0*cos(x) + a1*cos(2*x) + a2*cos(3*x)"
      ]
     },
     "execution_count": 11,
     "metadata": {},
     "output_type": "execute_result"
    }
   ],
   "source": [
    "x_vals = [0, sp.pi/6, sp.pi/3]\n",
    "y_vals = [5, 1+sp.sqrt(3), -1]\n",
    "n = len(x_vals)-1\n",
    "# Base non polynomiale : { cos(x), cos(2x), cos(3x) }\n",
    "v = sum(coeffs[i] * sp.cos((i+1)*x) for i in range(n+1))\n",
    "v"
   ]
  },
  {
   "cell_type": "code",
   "execution_count": 12,
   "metadata": {},
   "outputs": [
    {
     "data": {
      "text/latex": [
       "$\\displaystyle a_{0} + a_{1} + a_{2} = 5$"
      ],
      "text/plain": [
       "Eq(a0 + a1 + a2, 5)"
      ]
     },
     "metadata": {},
     "output_type": "display_data"
    },
    {
     "data": {
      "text/latex": [
       "$\\displaystyle \\frac{\\sqrt{3} a_{0}}{2} + \\frac{a_{1}}{2} = 1 + \\sqrt{3}$"
      ],
      "text/plain": [
       "Eq(sqrt(3)*a0/2 + a1/2, 1 + sqrt(3))"
      ]
     },
     "metadata": {},
     "output_type": "display_data"
    },
    {
     "data": {
      "text/latex": [
       "$\\displaystyle \\frac{a_{0}}{2} - \\frac{a_{1}}{2} - a_{2} = -1$"
      ],
      "text/plain": [
       "Eq(a0/2 - a1/2 - a2, -1)"
      ]
     },
     "metadata": {},
     "output_type": "display_data"
    }
   ],
   "source": [
    "eqs = [ sp.Eq( v.subs(x, x_vals[i]), y_vals[i]) for i in range(n+1) ]\n",
    "for eq in eqs:\n",
    "    display(eq)"
   ]
  }
 ],
 "metadata": {
  "kernelspec": {
   "display_name": "Python 3",
   "language": "python",
   "name": "python3"
  },
  "language_info": {
   "codemirror_mode": {
    "name": "ipython",
    "version": 3
   },
   "file_extension": ".py",
   "mimetype": "text/x-python",
   "name": "python",
   "nbconvert_exporter": "python",
   "pygments_lexer": "ipython3",
   "version": "3.12.3"
  }
 },
 "nbformat": 4,
 "nbformat_minor": 2
}
