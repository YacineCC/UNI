{
 "cells": [
  {
   "cell_type": "code",
   "execution_count": 3,
   "metadata": {},
   "outputs": [],
   "source": [
    "import sympy as sy\n"
   ]
  },
  {
   "cell_type": "code",
   "execution_count": 4,
   "metadata": {},
   "outputs": [
    {
     "data": {
      "text/latex": [
       "$\\displaystyle \\frac{e^{t}}{2} - \\frac{\\sqrt{2} \\sin{\\left(t + \\frac{\\pi}{4} \\right)}}{2}$"
      ],
      "text/plain": [
       "exp(t)/2 - sqrt(2)*sin(t + pi/4)/2"
      ]
     },
     "metadata": {},
     "output_type": "display_data"
    }
   ],
   "source": [
    "t, s = sy.symbols('t,s')\n",
    "f=sy.exp(-s)*sy.sin(s)\n",
    "g=sy.integrate(f,(s,0,t))\n",
    "display(sy.simplify(g*sy.exp(t)))"
   ]
  },
  {
   "cell_type": "code",
   "execution_count": null,
   "metadata": {},
   "outputs": [],
   "source": [
    "t, s = sy.symbols('t,s')\n",
    "f=sy.exp(-s)*sy.sin(s)\n",
    "g=sy.integrate(f,(s,0,t))\n",
    "display(sy.simplify(g*sy.exp(t)))"
   ]
  }
 ],
 "metadata": {
  "kernelspec": {
   "display_name": "Python 3",
   "language": "python",
   "name": "python3"
  },
  "language_info": {
   "codemirror_mode": {
    "name": "ipython",
    "version": 3
   },
   "file_extension": ".py",
   "mimetype": "text/x-python",
   "name": "python",
   "nbconvert_exporter": "python",
   "pygments_lexer": "ipython3",
   "version": "3.12.3"
  }
 },
 "nbformat": 4,
 "nbformat_minor": 2
}
